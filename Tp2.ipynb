{
 "cells": [
  {
   "cell_type": "code",
   "execution_count": 1,
   "metadata": {},
   "outputs": [],
   "source": [
    "import numpy as np\n",
    "import matplotlib.pyplot as plt\n",
    "from sklearn.metrics import accuracy_score\n",
    "np.random.seed(seed=42)\n"
   ]
  },
  {
   "cell_type": "markdown",
   "metadata": {},
   "source": [
    "1. Stochastic Gradient Descent para encontrar el máximo de una función\n",
    "\n",
    "    * Implementar en Python un algoritmo basado en Stochastic Gradient Descent para encontrar numéricamente el mínimo de ![equation](https://latex.codecogs.com/svg.image?%7B%5Ccolor%7BYellow%7D%20y%20=%20-(x-2)%5E2%20&plus;%203%7D) \n",
    "    > hecho\n",
    "    * ¿Cuál es el máximo valor que encontró el algoritmo y para qué valor de x?\n",
    "    >\n",
    "    * ¿En qué momento detuviste la búsqueda y por qué? \n",
    "    >\n",
    "    * ¿Cómo inicializamos los valores random del algoritmo y cómo afectan la convergencia? \n",
    "    >\n",
    "    * ¿Cuáles son los hiper parámetros del algoritmo?\n",
    "    >"
   ]
  },
  {
   "cell_type": "markdown",
   "metadata": {},
   "source": [
    "> "
   ]
  },
  {
   "cell_type": "code",
   "execution_count": 2,
   "metadata": {},
   "outputs": [
    {
     "data": {
      "image/png": "[encoded data removed]",
      "text/plain": [
       "<Figure size 432x288 with 1 Axes>"
      ]
     },
     "metadata": {
      "needs_background": "light"
     },
     "output_type": "display_data"
    }
   ],
   "source": [
    "def f(x):  \n",
    "    np.random.seed(42) \n",
    "    a1=-1\n",
    "    a2=-2\n",
    "    a3=3\n",
    "    y = a1*(x + a2)**2 + a3*500*np.random.randn(x.shape[0])\n",
    "    return y\n",
    "    \n",
    "X = np.array(np.arange(-100, 100, 10) )\n",
    "Y = f(X) \n",
    "plt.scatter(X,Y,label='data', color='blue')\n",
    "plt.title('Datos');\n"
   ]
  },
  {
   "cell_type": "code",
   "execution_count": 17,
   "metadata": {},
   "outputs": [],
   "source": [
    "class PolynomailRegression() :\n",
    "\t\n",
    "\tdef __init__( self, degree, learning_rate, iterations ) :\n",
    "\t\tself.degree = degree\n",
    "\t\tself.learning_rate = learning_rate\n",
    "\t\tself.iterations = iterations\n",
    "\t\t\n",
    "\t# polinomio\n",
    "\tdef transform( self, X ) :\n",
    "\t\t# inicialización\n",
    "\t\tX_transform = np.ones( ( self.m, 1 ) )\n",
    "\t\tj = 0\n",
    "\n",
    "\t\tfor j in range( self.degree + 1 ) :\n",
    "\t\t\tif j != 0 :\n",
    "\t\t\t\tx_pow = np.power( X, j )\n",
    "\t\t\t\tX_transform = np.append( X_transform, x_pow.reshape( -1, 1 ), axis = 1 )\n",
    "\t\treturn X_transform\n",
    "\t\n",
    "\t# normalización\n",
    "\tdef normalize( self, X ) :\n",
    "\t\tX[:, 1:] = ( X[:, 1:] - np.mean( X[:, 1:], axis = 0 ) ) / np.std( X[:, 1:], axis = 0 )\n",
    "\t\treturn X\n",
    "\t\t\n",
    "\t# model training\t\n",
    "\tdef fit( self, X, Y ) :\n",
    "\t\tself.X = X\n",
    "\t\tself.Y = Y\n",
    "\t\tself.m = self.X.shape[0]\n",
    "\t\tself.n=1\n",
    "\t\n",
    "\t\t# inicialización de pesos con random, distribución normal\n",
    "\t\tself.W = np.random.randn( self.degree + 1 )\n",
    "\t\t# f( x ) = w0 * x^0 + w1 * x^1 + w2 * x^2 + ........+ wn * x^n\n",
    "\t\tX_transform = self.transform( self.X )\n",
    "\t\t# f( x ) normalización\n",
    "\t\tX_normalize = self.normalize( X_transform )\t\n",
    "\n",
    "\t\t# SGD\n",
    "\n",
    "\t\tlo=[]\n",
    "\t\tacurr=[]\n",
    "\t\t\n",
    "\t\tfor i in range( self.iterations + 1) :\n",
    "\t\t\t\n",
    "\t\t\t#se requiere hacer un shuffle \n",
    "\t\t\t\n",
    "\n",
    "\t\t\th = self.predict( self.X )\n",
    "\t\t\terror = h - self.Y\n",
    "\t\t\t# update weights\n",
    "\t\t\tself.W = self.W - self.learning_rate * ( 1 / self.m ) * np.dot( X_normalize.T, error )\n",
    "\t\t\t# Obtener el loss\n",
    "\t\t\tloss=np.mean((h-self.Y)**2)/2\n",
    "\t\t\t#acc = accuracy_score(self.Y, h)\n",
    "\t\t\tlo.append(loss)\n",
    "\t\t\t#acurr.append(acc)\n",
    "\n",
    "\t\t#print(\"iteración {} x {} max(y) {} loss {} \".format(i,max(h),loss))\n",
    "\t\n",
    "\t\treturn self\n",
    "\t\n",
    "\t# predict\n",
    "\tdef predict( self, X ) :\n",
    "\t\t# transform X for polynomial h( x ) = w0 * x^0 + w1 * x^1 + w2 * x^2 + ........+ wn * x^n\n",
    "\t\tX_transform = self.transform( X )\n",
    "\t\tX_normalize = self.normalize( X_transform )\n",
    "\t\treturn np.dot( X_normalize, self.W )"
   ]
  },
  {
   "cell_type": "code",
   "execution_count": 18,
   "metadata": {},
   "outputs": [
    {
     "data": {
      "image/png": "[encoded data removed]",
      "text/plain": [
       "<Figure size 432x288 with 1 Axes>"
      ]
     },
     "metadata": {
      "needs_background": "light"
     },
     "output_type": "display_data"
    }
   ],
   "source": [
    "# model training\n",
    "\n",
    "model = PolynomailRegression( degree = 2, learning_rate = 0.001, iterations = 10000 )\n",
    "model.fit( X, Y )\n",
    "# Prediction on training set\n",
    "Y_pred = model.predict( X )\n",
    "# Visualization\n",
    "plt.scatter( X, Y, color = 'b' )\n",
    "plt.plot( X, Y_pred, color = 'r' )\n",
    "plt.title( 'SGD' )\n",
    "plt.xlabel( 'X' )\n",
    "plt.ylabel( 'Y' )\n",
    "plt.show()\n"
   ]
  },
  {
   "cell_type": "code",
   "execution_count": null,
   "metadata": {},
   "outputs": [],
   "source": []
  }
 ],
 "metadata": {
  "interpreter": {
   "hash": "3eed02be983c49f5f395619cd37899b328088948fdab1e3fff682af3c98323cc"
  },
  "kernelspec": {
   "display_name": "Python 3.9.7 ('base')",
   "language": "python",
   "name": "python3"
  },
  "language_info": {
   "codemirror_mode": {
    "name": "ipython",
    "version": 3
   },
   "file_extension": ".py",
   "mimetype": "text/x-python",
   "name": "python",
   "nbconvert_exporter": "python",
   "pygments_lexer": "ipython3",
   "version": "3.9.7"
  },
  "orig_nbformat": 4
 },
 "nbformat": 4,
 "nbformat_minor": 2
}
