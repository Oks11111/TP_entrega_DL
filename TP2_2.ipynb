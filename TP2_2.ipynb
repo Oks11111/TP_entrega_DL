{
 "cells": [
  {
   "cell_type": "markdown",
   "metadata": {},
   "source": [
    "2. Mini-Batch Gradient Descent para entrenar un modelo cuadrático\n",
    "\n",
    "    * Crear un dataset sintético con 10,000 muestras a partir de la siguiente expresión (donde “x” es la feature que toma valores entre 0 y 4, e “y” es la salida):\n",
    "        \n",
    "        ![equation](https://latex.codecogs.com/svg.image?%7B%5Ccolor%7BYellow%7D%20y%20=%20-(x-2)%5E2%20&plus;%203%20&plus;%200.2%20*%20sin(16*x)%7D)\n",
    "    \n",
    "    * Suponer que se tiene un modelo, tal que la relación entre la salida y la entrada está dada por la ecuación presentada a continuación. Suponiendo que se va a utilizar mini-batch SGD para encontrar los valores óptimos de los pesos w1, w2 y w3 tal que minimizan el ECM (Error Cuadrático Medio) (el ECM es la función de costo para este problema), ¿cuál sería la regla de actualización de cada parámetro?. Implementar el algoritmo en Python (usar mini-batch), encontrar los valores óptimos para w1, w2 y w3 y reportar la evolución del ECM con el número de epochs.   \n",
    "\n",
    "        ![equation](https://latex.codecogs.com/svg.image?%7B%5Ccolor%7BYellow%7D%20%5Chat%7By%7D%20=w_1*x%5E2&plus;w_2*x&plus;w_3%7D)"
   ]
  },
  {
   "cell_type": "code",
   "execution_count": 1,
   "metadata": {},
   "outputs": [],
   "source": [
    "# Importamos las librerias \n",
    "import numpy as np\n",
    "import pandas as pd\n",
    "import matplotlib.pyplot as plt\n",
    "from sklearn.metrics import accuracy_score\n",
    "from sklearn.model_selection import train_test_split\n",
    "from sklearn import preprocessing"
   ]
  },
  {
   "cell_type": "code",
   "execution_count": 2,
   "metadata": {},
   "outputs": [
    {
     "data": {
      "image/png": "[encoded data removed]",
      "text/plain": [
       "<Figure size 432x288 with 1 Axes>"
      ]
     },
     "metadata": {
      "needs_background": "light"
     },
     "output_type": "display_data"
    }
   ],
   "source": [
    "#Se define el dataset \n",
    "def f(x):  \n",
    "    np.random.seed(42) \n",
    "    y = -(x-2)**2 + 3*0.05*np.random.randn(x.shape[0]) + .2*np.sin(16*x)\n",
    "    return y\n",
    "n = 10000\n",
    "X = np.random.uniform(0,4,n)  \n",
    "Y = f(X) \n",
    "plt.scatter(X,Y,label='data', color='blue')\n",
    "plt.title('Datos');\n",
    "\n",
    "\n"
   ]
  },
  {
   "cell_type": "code",
   "execution_count": 3,
   "metadata": {},
   "outputs": [],
   "source": [
    "#Calculamos los tres gradientes, correspondientes a los tres coeficientes\n",
    "def gradientes(x, y, b):\n",
    "    res = b[0] + b[1] * x +b[2]*(x**2)- y\n",
    "    return res.mean(), (res * x).mean(), (res * (x**2)).mean() \n"
   ]
  },
  {
   "cell_type": "code",
   "execution_count": 4,
   "metadata": {},
   "outputs": [],
   "source": [
    "def mse(y_hat,y_train):\n",
    "        return np.mean((y_hat-y_train)**2)/2"
   ]
  },
  {
   "cell_type": "code",
   "execution_count": 10,
   "metadata": {},
   "outputs": [],
   "source": [
    "def sgd(gradient, x, y, n_vars=None, start=None, learn_rate=0.01,decay_rate=0.0, batch_size=1, epoch=50,\n",
    "    dtype=\"float64\", random_state=None ):\n",
    "\n",
    "    # Se lleva todo a numpy\n",
    "    dtype_ = np.dtype(dtype)\n",
    "    x, y = np.array(x, dtype=dtype_), np.array(y, dtype=dtype_)\n",
    "    n_obs = x.shape[0]\n",
    "    xy = np.c_[x.reshape(n_obs, -1), y.reshape(n_obs, 1)]\n",
    "\n",
    "    # Inicializando, en caso stocastico de forma aleatoria\n",
    "    seed = None if random_state is None else int(random_state)\n",
    "    rng = np.random.default_rng(seed=seed)\n",
    "    vector = (rng.normal(size=int(n_vars)).astype(dtype_)\n",
    "               if start is None else np.array(start, dtype=dtype_))\n",
    " \n",
    "    # SGD\n",
    "\n",
    "    for i in range(epoch+1):\n",
    "        # random shuffle \n",
    "        rng.shuffle(xy)\n",
    "        # Minibatch, si batch_size es distinto de 1 y de len(y)\n",
    "        for start in range(0, n_obs, batch_size):\n",
    "            stop = start + batch_size\n",
    "            x_batch, y_batch = xy[start:stop, :-1], xy[start:stop, -1:]\n",
    "            # Calculamos el paso\n",
    "            grad = np.array(gradient(x_batch, y_batch, vector), dtype_)\n",
    "            diff = -learn_rate * grad\n",
    "            #print(grad)\n",
    "        \n",
    "   \n",
    "            # Actualizamos las tres variables\n",
    "            vector += diff\n",
    "        y_hat=vector[0] + vector[1] * x +vector[2]*(x**2)\n",
    "        mse_=mse(y_hat,y)\n",
    "        print(\"epoch= {}, mse= {}\".format(i,mse_))\n",
    "\n",
    "\n",
    "    return vector if vector.shape else vector.item()"
   ]
  },
  {
   "cell_type": "code",
   "execution_count": 13,
   "metadata": {},
   "outputs": [
    {
     "name": "stdout",
     "output_type": "stream",
     "text": [
      "epoch= 0, mse= 0.2907066661967531\n",
      "epoch= 1, mse= 0.12271962723009461\n",
      "epoch= 2, mse= 0.060559536552563506\n",
      "epoch= 3, mse= 0.035576810218478916\n",
      "epoch= 4, mse= 0.026622628741537237\n",
      "epoch= 5, mse= 0.023292560992228508\n",
      "epoch= 6, mse= 0.022033437337846396\n",
      "epoch= 7, mse= 0.02370564658734911\n",
      "epoch= 8, mse= 0.021320360955117756\n",
      "epoch= 9, mse= 0.0218246202546572\n",
      "epoch= 10, mse= 0.022665094806802455\n",
      "-3.9672150263865387 3.965808469516507 -0.9854955900781789\n"
     ]
    }
   ],
   "source": [
    "b0,b1,b2=sgd(gradientes, X, Y, n_vars=3, learn_rate=0.001,decay_rate=0.8, batch_size=1, epoch=10, random_state=10)\n",
    "\n",
    "print(b0,b1,b2)"
   ]
  },
  {
   "cell_type": "code",
   "execution_count": 14,
   "metadata": {},
   "outputs": [
    {
     "data": {
      "text/plain": [
       "array([-0.91837625, -0.34296068, -3.58971587, ..., -0.91166099,\n",
       "       -0.04876266, -0.57012802])"
      ]
     },
     "execution_count": 14,
     "metadata": {},
     "output_type": "execute_result"
    }
   ],
   "source": [
    "y_pred=b2*(X**2) + b1*X +b0\n",
    "y_pred"
   ]
  },
  {
   "cell_type": "code",
   "execution_count": 15,
   "metadata": {},
   "outputs": [
    {
     "data": {
      "image/png": "[encoded data removed]",
      "text/plain": [
       "<Figure size 432x288 with 1 Axes>"
      ]
     },
     "metadata": {
      "needs_background": "light"
     },
     "output_type": "display_data"
    }
   ],
   "source": [
    "plt.scatter( X, Y, color = 'b' )\n",
    "plt.scatter( X, y_pred, color = 'r' )\n",
    "plt.title( 'SGD' )\n",
    "plt.xlabel( 'X' )\n",
    "plt.ylabel( 'Y' )\n",
    "plt.show()"
   ]
  },
  {
   "cell_type": "code",
   "execution_count": null,
   "metadata": {},
   "outputs": [],
   "source": []
  }
 ],
 "metadata": {
  "interpreter": {
   "hash": "3eed02be983c49f5f395619cd37899b328088948fdab1e3fff682af3c98323cc"
  },
  "kernelspec": {
   "display_name": "Python 3.9.7 ('base')",
   "language": "python",
   "name": "python3"
  },
  "language_info": {
   "codemirror_mode": {
    "name": "ipython",
    "version": 3
   },
   "file_extension": ".py",
   "mimetype": "text/x-python",
   "name": "python",
   "nbconvert_exporter": "python",
   "pygments_lexer": "ipython3",
   "version": "3.9.7"
  },
  "orig_nbformat": 4
 },
 "nbformat": 4,
 "nbformat_minor": 2
}
