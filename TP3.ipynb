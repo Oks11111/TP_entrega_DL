{
 "cells": [
  {
   "cell_type": "markdown",
   "metadata": {},
   "source": [
    "1. Red Neuronal Feed Forward en PyTorch\n",
    "\n",
    "    * Resolver el ejercicio 2 de la Clase 2 utilizando una red neuronal feed forward en PyTorch. Pueden usar los notebooks de la clase de referencia."
   ]
  },
  {
   "cell_type": "code",
   "execution_count": 7,
   "metadata": {},
   "outputs": [],
   "source": [
    "import numpy as np\n",
    "import torch \n",
    "import torch.nn as nn\n",
    "from torch import sigmoid\n",
    "import matplotlib.pylab as plt\n",
    "import numpy as np\n",
    "torch.manual_seed(0)\n",
    "from torch.utils.data import Dataset, DataLoader\n",
    "import torchsummary\n",
    "from torch.utils.tensorboard import SummaryWriter\n",
    "writer = SummaryWriter()"
   ]
  },
  {
   "cell_type": "code",
   "execution_count": 19,
   "metadata": {},
   "outputs": [],
   "source": [
    "#generador de datos\n",
    "class Data(Dataset):\n",
    "    \n",
    "    def __init__(self, n=10000):\n",
    "        x = np.random.uniform(0,4,n)\n",
    "        y = -(x-2)**2 + 3*0.05*np.random.randn(x.shape[0]) + .2*np.sin(16*x)\n",
    "        self.y = torch.from_numpy(y).type(torch.Tensor)\n",
    "        self.x = torch.from_numpy(x).type(torch.FloatTensor)\n",
    "        self.len = y.shape[0]\n",
    "    \n",
    "    # Getter\n",
    "    def __getitem__(self, index):    \n",
    "        return self.x[index], self.y[index]\n",
    "    \n",
    "    # Get Length\n",
    "    def __len__(self):\n",
    "        return self.len"
   ]
  },
  {
   "cell_type": "code",
   "execution_count": 25,
   "metadata": {},
   "outputs": [
    {
     "name": "stdout",
     "output_type": "stream",
     "text": [
      "----------------------------------------------------------------\n",
      "        Layer (type)               Output Shape         Param #\n",
      "================================================================\n",
      "            Linear-1             [-1, 10000, 8]              16\n",
      "              ReLU-2             [-1, 10000, 8]               0\n",
      "            Linear-3            [-1, 10000, 16]             144\n",
      "           Softmax-4            [-1, 10000, 16]               0\n",
      "            Linear-5             [-1, 10000, 1]              17\n",
      "================================================================\n",
      "Total params: 177\n",
      "Trainable params: 177\n",
      "Non-trainable params: 0\n",
      "----------------------------------------------------------------\n",
      "Input size (MB): 0.04\n",
      "Forward/backward pass size (MB): 3.74\n",
      "Params size (MB): 0.00\n",
      "Estimated Total Size (MB): 3.78\n",
      "----------------------------------------------------------------\n"
     ]
    },
    {
     "name": "stderr",
     "output_type": "stream",
     "text": [
      "<ipython-input-25-fcc1d824af40>:13: UserWarning: Implicit dimension choice for softmax has been deprecated. Change the call to include dim=X as an argument.\n",
      "  out2 = self.activation2(self.linear2(out1))\n"
     ]
    }
   ],
   "source": [
    "class modelo(nn.Module):\n",
    "    def __init__(self):\n",
    "        super().__init__() \n",
    "        \n",
    "        self.linear1 = nn.Linear(1, 8)\n",
    "        self.activation1 = nn.ReLU()\n",
    "        self.linear2 = nn.Linear(8, 16)\n",
    "        self.activation2 = nn.Softmax()\n",
    "        self.linear_out = nn.Linear(16, 1)\n",
    "        \n",
    "    def forward(self, input):\n",
    "        out1 = self.activation1(self.linear1(input))\n",
    "        out2 = self.activation2(self.linear2(out1))\n",
    "        output = self.linear_out(out2)\n",
    "        \n",
    "        return output\n",
    "    \n",
    "modelo= modelo()\n",
    "torchsummary.summary(modelo, input_size=(10000, 1))"
   ]
  },
  {
   "cell_type": "code",
   "execution_count": 26,
   "metadata": {},
   "outputs": [],
   "source": [
    "def train(dataset,model,criterion, train_loader, optimizer, epochs=5):\n",
    "    cost=[]\n",
    "    \n",
    "    for epoch in range(epochs):\n",
    "        total=0\n",
    "        \n",
    "        for x,y in train_loader:\n",
    "            \n",
    "            optimizer.zero_grad()\n",
    "            \n",
    "            yhat=model(x)\n",
    "            loss=criterion(yhat,y)\n",
    "            loss.backward()\n",
    "            optimizer.step()\n",
    "            total+=loss.item()\n",
    "        \n",
    "        cost.append(total)\n",
    "    plt.figure()\n",
    "    plt.plot(cost)\n",
    "    plt.xlabel('epoch')\n",
    "    plt.ylabel('cost')\n",
    "    plt.show()\n",
    "    return cost"
   ]
  },
  {
   "cell_type": "code",
   "execution_count": 27,
   "metadata": {},
   "outputs": [],
   "source": [
    "data_set = Data()\n",
    "data_set.y = data_set.y.view(-1,1)\n",
    "data_set.x = data_set.x.view(-1,1)"
   ]
  },
  {
   "cell_type": "code",
   "execution_count": 28,
   "metadata": {},
   "outputs": [
    {
     "name": "stderr",
     "output_type": "stream",
     "text": [
      "<ipython-input-25-fcc1d824af40>:13: UserWarning: Implicit dimension choice for softmax has been deprecated. Change the call to include dim=X as an argument.\n",
      "  out2 = self.activation2(self.linear2(out1))\n"
     ]
    },
    {
     "data": {
      "image/png": "[encoded data removed]",
      "text/plain": [
       "<Figure size 432x288 with 1 Axes>"
      ]
     },
     "metadata": {
      "needs_background": "light"
     },
     "output_type": "display_data"
    }
   ],
   "source": [
    "optimizer = torch.optim.SGD(modelo.parameters(), lr=0.001)\n",
    "train_loader = DataLoader(dataset=data_set, batch_size=10)\n",
    "criterion = nn.MSELoss()\n",
    "LOSS = train(data_set,modelo,criterion, train_loader, optimizer, epochs=100)\n",
    "\n"
   ]
  },
  {
   "cell_type": "code",
   "execution_count": 29,
   "metadata": {},
   "outputs": [
    {
     "name": "stderr",
     "output_type": "stream",
     "text": [
      "<ipython-input-25-fcc1d824af40>:13: UserWarning: Implicit dimension choice for softmax has been deprecated. Change the call to include dim=X as an argument.\n",
      "  out2 = self.activation2(self.linear2(out1))\n"
     ]
    },
    {
     "data": {
      "text/plain": [
       "<matplotlib.collections.PathCollection at 0x177e1037eb0>"
      ]
     },
     "execution_count": 29,
     "metadata": {},
     "output_type": "execute_result"
    },
    {
     "data": {
      "image/png": "[encoded data removed]",
      "text/plain": [
       "<Figure size 432x288 with 1 Axes>"
      ]
     },
     "metadata": {
      "needs_background": "light"
     },
     "output_type": "display_data"
    }
   ],
   "source": [
    "yhat = modelo(data_set.x)\n",
    "\n",
    "plt.scatter(data_set.x,data_set.y,color=\"orange\",label=\"original\")\n",
    "plt.scatter(data_set.x,yhat.detach().numpy(),color=\"blue\",label=\"predicción\")\n",
    "\n"
   ]
  },
  {
   "cell_type": "code",
   "execution_count": null,
   "metadata": {},
   "outputs": [],
   "source": []
  }
 ],
 "metadata": {
  "interpreter": {
   "hash": "1162a3170283f65bf03a2973d23062256b16d5057f9d49eb049ff6db3b0bc90d"
  },
  "kernelspec": {
   "display_name": "Python 3.8.7 64-bit",
   "language": "python",
   "name": "python3"
  },
  "language_info": {
   "codemirror_mode": {
    "name": "ipython",
    "version": 3
   },
   "file_extension": ".py",
   "mimetype": "text/x-python",
   "name": "python",
   "nbconvert_exporter": "python",
   "pygments_lexer": "ipython3",
   "version": "3.8.7"
  },
  "orig_nbformat": 4
 },
 "nbformat": 4,
 "nbformat_minor": 2
}
