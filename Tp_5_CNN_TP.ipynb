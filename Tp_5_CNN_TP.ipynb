{
  "cells": [
    {
      "cell_type": "markdown",
      "metadata": {
        "id": "N9_1a5iymIvC"
      },
      "source": [
        "## 8. EJERCICIO\n",
        "\n",
        "Vamos a armar una pequeña competición en el curso.\n",
        "El objetivo es armar una arquitectura de CNN que identifique el dataset MNIST.\n",
        "Se van a usar capas de convolución, de activación y de pooling a elección. Cada alumno eligirá su modelo y los respectivos hiperparámetros, lo entrenará y presentará los siguientes resultados:\n",
        "\n",
        "*   `test_acc` (del test final)\n",
        "*   `n_parameter`\n",
        "*   `n_layers` (conv + activacion + pooling = 1 capa)\n",
        "*   `n_epochs` de entrenamiento usadas.\n",
        "\n",
        "\n",
        "El modelo se deberá ajustar a los siguientes parámetros:\n",
        "\n",
        "*   train: 80%, validation: 10%, test: 10% (los datos serán dados así todos usan el mismo set para cada grupo. Están en el github el curso).\n",
        "*   capa final de salida será una softmax de 10 elementos.\n",
        "*   coss_function será `CrossEntropyLoss`.\n",
        "\n",
        "El ganador de la competencia será aquel que consiga el mayor `score` empleando la siguietne fórmula:\n",
        "\n",
        "$$ score = \\frac{1}{log_{10}(n\\_parameter)} * \\frac{10}{n\\_epochs}*test\\_acc*n\\_layers$$\n",
        "\n",
        "Deberan presentar su código colab funcionando y el score alcanzado (con los valores de cada variable que compone el score).\n",
        "\n",
        "Es una competencia fairplay y con fines didácticos, esta formula del ```score``` fué inventada.... no usar como referencia para definir qué modelo utilizar.\n",
        "\n",
        "\n",
        "\n",
        "\n",
        "\n"
      ]
    },
    {
      "cell_type": "markdown",
      "metadata": {
        "id": "_wIQ8hjDpdVi"
      },
      "source": [
        "#### Importar lo necesario"
      ]
    },
    {
      "cell_type": "code",
      "execution_count": 1,
      "metadata": {
        "id": "uHQUjDs12DLW"
      },
      "outputs": [],
      "source": [
        "import torch\n",
        "import torchvision\n",
        "import numpy as np\n",
        "import random\n",
        "import matplotlib.pyplot as plt\n",
        "import math\n",
        "import torchsummary\n",
        "import torchmetrics\n"
      ]
    },
    {
      "cell_type": "markdown",
      "metadata": {},
      "source": [
        "Por construccion de la ecuación de score , \n",
        "aumentando n_layer y test_acc aumenta score \n",
        "disminuyendo n_params y n_epochs aumenta score\n",
        "Por otro lado, veamos el orden de magnitud\n"
      ]
    },
    {
      "cell_type": "code",
      "execution_count": 2,
      "metadata": {},
      "outputs": [
        {
          "name": "stdout",
          "output_type": "stream",
          "text": [
            "3900\n",
            "3900\n",
            "3900\n",
            "3900\n"
          ]
        }
      ],
      "source": [
        "#n_epochs=1000\n",
        "n_epochs = range(100, 4000,1)\n",
        "print(np.size(n_epochs))\n",
        "n_params=range(100, 4000,1)\n",
        "print(np.size(n_params))\n",
        "test_acc=0.8 #supongamos test accurancy 0.8, 0.9, 0.95\n",
        "n_leyers=range(100, 4000,1)\n",
        "print(np.size(n_leyers))\n",
        "score=[]\n",
        "a_param=[]\n",
        "a_epoch=[]\n",
        "a_leyer=[]\n",
        "for epoch in n_epochs:\n",
        "    a_epoch.append(10/epoch)\n",
        "for param in n_params:\n",
        "    a_param.append(1/math.log10(param))\n",
        "#        for leyer in n_leyers:\n",
        "#            aux_=(1/math.log10(param))*(10/epoch)*test_acc*leyer\n",
        "#            score.append(aux_)\n",
        "#score=np.resize(score,200)\n",
        "print(np.size(a_param))"
      ]
    },
    {
      "cell_type": "code",
      "execution_count": 3,
      "metadata": {},
      "outputs": [
        {
          "data": {
            "image/png": "[encoded data removed]",
            "text/plain": [
              "<Figure size 432x288 with 1 Axes>"
            ]
          },
          "metadata": {
            "needs_background": "light"
          },
          "output_type": "display_data"
        }
      ],
      "source": [
        "import matplotlib.pyplot as plt\n",
        "import numpy as np\n",
        "\n",
        "\n",
        "fig, ax = plt.subplots()\n",
        "ax.plot(n_leyers, a_param)   \n",
        "ax.plot(n_leyers, a_epoch,c=\"r\") # podemos ver como la función definida con epoch, converge rapidamente a 0 en unas 4000 iteraciones. \n",
        "#Dejaremos la red neuronal con una epoch y veremos los demas parametros. \n",
        "\n",
        "ax.grid()\n",
        "\n",
        "#fig.savefig(\"test.png\")\n",
        "plt.show()"
      ]
    },
    {
      "cell_type": "markdown",
      "metadata": {
        "id": "QeJy8fjPn4wi"
      },
      "source": [
        "#### configuramos el `device` acorde al device disponible\n",
        "\n",
        "\n"
      ]
    },
    {
      "cell_type": "code",
      "execution_count": 4,
      "metadata": {
        "id": "lOV9xybtn4I3"
      },
      "outputs": [],
      "source": [
        "device = \"cuda\" if torch.cuda.is_available() else \"cpu\""
      ]
    },
    {
      "cell_type": "markdown",
      "metadata": {
        "id": "1nQ-MLk6Do8e"
      },
      "source": [
        "1. Cargar base de datos"
      ]
    },
    {
      "cell_type": "code",
      "execution_count": 5,
      "metadata": {},
      "outputs": [
        {
          "name": "stdout",
          "output_type": "stream",
          "text": [
            "### Descripción del conjunto de entrenamiento ###\n",
            "Dataset MNIST\n",
            "    Number of datapoints: 60000\n",
            "    Root location: ./data\n",
            "    Split: Train\n",
            "### Dimensiones de un ejemplo del dataset ###\n",
            "(28, 28)\n",
            "### Descripción del conjunto de evaluación ###\n",
            "Dataset MNIST\n",
            "    Number of datapoints: 10000\n",
            "    Root location: ./data\n",
            "    Split: Test\n",
            "Label de la imágen 0: 5\n",
            "Label de la imágen 1: 0\n",
            "Label de la imágen 2: 4\n",
            "Label de la imágen 3: 1\n",
            "Label de la imágen 4: 9\n",
            "Label de la imágen 5: 2\n",
            "Label de la imágen 6: 1\n",
            "Label de la imágen 7: 3\n",
            "Label de la imágen 8: 1\n"
          ]
        },
        {
          "data": {
            "image/png": "[encoded data removed]",
            "text/plain": [
              "<Figure size 432x288 with 9 Axes>"
            ]
          },
          "metadata": {
            "needs_background": "light"
          },
          "output_type": "display_data"
        }
      ],
      "source": [
        "train_set = torchvision.datasets.MNIST(root='./data', train=True, download=True)\n",
        "test_set = torchvision.datasets.MNIST(root='./data', train=False, download=True)\n",
        "\n",
        "print(\"### Descripción del conjunto de entrenamiento ###\")\n",
        "print(train_set)\n",
        "print(\"### Dimensiones de un ejemplo del dataset ###\")\n",
        "print(np.shape(train_set[0][0]))\n",
        "print(\"### Descripción del conjunto de evaluación ###\")\n",
        "print(test_set)\n",
        "\n",
        "# Ploteo algunas imagenes del dataset y sus etiquetas\n",
        "for i in range(9):\n",
        "  image, label = train_set[i]\n",
        "  plt.subplot(331 + i)\n",
        "  plt.imshow(image, cmap=plt.get_cmap('gray'))\n",
        "  print(\"Label de la imágen {}: {}\".format(i, label))\n",
        "\n",
        "plt.show()"
      ]
    },
    {
      "cell_type": "code",
      "execution_count": 6,
      "metadata": {},
      "outputs": [
        {
          "name": "stdout",
          "output_type": "stream",
          "text": [
            "X_train:  torch.Size([56000, 1, 28, 28])  y_train:  torch.Size([56000])\n",
            "X_test:  torch.Size([7000, 1, 28, 28])  y_test:  torch.Size([7000])\n",
            "X_val:  torch.Size([7000, 1, 28, 28])  y_val:  torch.Size([7000])\n"
          ]
        }
      ],
      "source": [
        "import pickle\n",
        "path=\"C:/Users/54922/GITHUB/aprendizaje_profundo/clase_5/ejercicios\"\n",
        "X_test = torch.Tensor(np.resize(np.array(pickle.load( open(path+\"/test.pkl\", \"rb\" ) )), (7000, 1, 28, 28)))\n",
        "y_test = torch.Tensor(np.array(pickle.load( open( path+\"/test_label.pkl\", \"rb\" ) )))\n",
        "y_test = y_test.type(torch.LongTensor)\n",
        "X_train = torch.Tensor(np.resize(np.array(pickle.load( open( path+\"/train.pkl\", \"rb\" ) )), (56000, 1, 28, 28)))\n",
        "y_train = torch.Tensor(np.array(pickle.load( open(path+\"/train_label.pkl\", \"rb\" ))) )\n",
        "y_train = y_train.type(torch.LongTensor)\n",
        "X_val = torch.Tensor(np.resize(np.array(pickle.load( open( path+\"/val.pkl\", \"rb\" ) )), (7000, 1, 28, 28)))\n",
        "y_val = torch.Tensor(np.array(pickle.load( open(path+\"/val_label.pkl\", \"rb\" ))) )\n",
        "y_val = y_val.type(torch.LongTensor)\n",
        "print('X_train: ',X_train.shape, ' y_train: ',y_train.shape)\n",
        "print('X_test: ',X_test.shape, ' y_test: ',y_test.shape)\n",
        "print('X_val: ',X_val.shape, ' y_val: ',y_val.shape)"
      ]
    },
    {
      "cell_type": "code",
      "execution_count": 7,
      "metadata": {},
      "outputs": [
        {
          "name": "stdout",
          "output_type": "stream",
          "text": [
            "<class 'dict'>\n",
            "<class 'torch.utils.data.dataloader.DataLoader'>\n"
          ]
        }
      ],
      "source": [
        "\n",
        "from torch.utils.data import DataLoader, TensorDataset\n",
        "#norm con mean y std\n",
        "norm=torchvision.transforms.Compose([torchvision.transforms.Normalize(np.mean(np.array(pickle.load( open( path+\"/test.pkl\", \"rb\" ) ))),np.std(np.array(pickle.load( open( path+\"/test.pkl\", \"rb\" ) ))))])\n",
        "train_dataset = TensorDataset(norm(X_train),y_train) \n",
        "test_dataset = TensorDataset(norm(X_test),y_test) \n",
        "val_dataset = TensorDataset(norm(X_val),y_val) \n",
        "\n",
        "dataloader = {\n",
        "    'train': DataLoader(train_dataset, batch_size=32, shuffle=True, pin_memory=True,),\n",
        "    'test': DataLoader(test_dataset, batch_size=32, shuffle=False, pin_memory=True),\n",
        "    'val': DataLoader(val_dataset, batch_size=32, shuffle=False, pin_memory=True)\n",
        "}\n",
        "\n",
        "# Verificamos \n",
        "print(type(dataloader))\n",
        "print(type(dataloader['train']))"
      ]
    },
    {
      "cell_type": "code",
      "execution_count": 8,
      "metadata": {},
      "outputs": [
        {
          "name": "stdout",
          "output_type": "stream",
          "text": [
            "Tamaño del batch de feature (input / imagen): torch.Size([32, 1, 28, 28])\n",
            "Tamaño del batch del label (clase / etiqueta): torch.Size([32])\n",
            "tamaño de 1 imagen:  torch.Size([1, 28, 28])\n",
            "tamaño de 1 imagen DESPUES de squeeze:  torch.Size([28, 28])\n"
          ]
        },
        {
          "data": {
            "image/png": "[encoded data removed]",
            "text/plain": [
              "<Figure size 432x288 with 1 Axes>"
            ]
          },
          "metadata": {
            "needs_background": "light"
          },
          "output_type": "display_data"
        },
        {
          "name": "stdout",
          "output_type": "stream",
          "text": [
            "Label: 9\n"
          ]
        }
      ],
      "source": [
        "# Ver imagen and label del dataloader (dataloader -> una herramienta para hacer batches de datasets)\n",
        "train_features, train_labels = next(iter(dataloader['train']))\n",
        "\n",
        "# verifico sus dimensiones\n",
        "print(f\"Tamaño del batch de feature (input / imagen): {train_features.size()}\")\n",
        "print(f\"Tamaño del batch del label (clase / etiqueta): {train_labels.size()}\")\n",
        "\n",
        "# tomo 1 imagen para poder visualizarla\n",
        "# y verifico sus dimensiones\n",
        "\n",
        "img = train_features[0]\n",
        "print('tamaño de 1 imagen: ', img.shape)\n",
        "# le QUITO 1 dimension (la del tamaño del batch) para poder graficar\n",
        "img = img.squeeze()\n",
        "print('tamaño de 1 imagen DESPUES de squeeze: ', img.shape)\n",
        "label = train_labels[0]\n",
        "\n",
        "# ploteo esa imagen\n",
        "plt.imshow(img, cmap=\"gray\")\n",
        "plt.show()\n",
        "print(f\"Label: {label}\")"
      ]
    },
    {
      "cell_type": "markdown",
      "metadata": {},
      "source": [
        "train_loader = torch.utils.data.DataLoader(train_set, batch_size=32, shuffle=True)\n",
        "valid_loader = torch.utils.data.DataLoader(valid_set, batch_size=len(valid_set), shuffle=True)\n",
        "test_loader = torch.utils.data.DataLoader(test_set, batch_size=len(test_set), shuffle=True)"
      ]
    },
    {
      "cell_type": "markdown",
      "metadata": {
        "id": "EY0TN4erDxRd"
      },
      "source": [
        "3. Construyo mi CNN"
      ]
    },
    {
      "cell_type": "code",
      "execution_count": 88,
      "metadata": {},
      "outputs": [],
      "source": [
        "# defino primero un \"bloque\" de una capa CNN\n",
        "# construido con los bloques funcionales vistos en clase\n",
        "#\n",
        "# (hiper)parámetros a pasar a la función:\n",
        "#   c_in:   canales (kernels) de entrada\n",
        "#   c_out:  canales (kernels) de salida\n",
        "#   k:      tamaño del kernel kxk  ## de kernel de convolución?\n",
        "#   p:      tamaño del padding de la convolución\n",
        "#   s:      stride de la convolución\n",
        "#   pk:     tamaño del kernel del pooling\n",
        "#   ps:     stride de la pooling\n",
        "#   pp:     padding en la pooling\n",
        "#\n",
        "#   la función pooling se elige directamente dentro del bloque!\n",
        "\n",
        "def block(c_in, c_out, k=3, p=1, s=1, pk=3, ps=2, pp=1):\n",
        "    return torch.nn.Sequential(\n",
        "        torch.nn.Conv2d(c_in, c_out, k, padding=p, stride=s), # conv\n",
        "        torch.nn.ReLU(),                                      # activation\n",
        "        torch.nn.MaxPool2d(pk, stride=ps, padding=pp)         # pooling\n",
        "    )\n",
        "\n",
        "\n",
        "# ahora SI construyo mi red... usando la clase CNN de pytorch\n",
        "# revisar muy bien las dimensiones a emplear en cada capa y\n",
        "# tener presente la reducción de las dimensiones.\n",
        "#\n",
        "# en la útlima capa fully conected 'fc', hacer bien el cálculo final del\n",
        "# tamaño del array que se obtiene siguiendo la formula vista en la teoria\n",
        "# tanto para la capa conv como para la capa pooling.\n",
        "#\n",
        "class CNN(torch.nn.Module):\n",
        "  def __init__(self, n_channels=1, n_outputs=10):\n",
        "    super().__init__()\n",
        "    self.conv1 = block(n_channels, 64)\n",
        "    self.conv1_out = None\n",
        "    self.conv2 = block(64, 32)\n",
        "    self.conv2_out = None\n",
        "    self.conv3 = block(32, 16)\n",
        "    self.conv3_out = None\n",
        "    self.conv4 = block(16, 16)\n",
        "    self.conv4_out = None\n",
        "    self.conv5 = block(16, 32)\n",
        "    self.conv5_out = None\n",
        "    self.conv6 = block(32, 64)\n",
        "    self.conv6_out = None\n",
        "    #self.conv7 = block(32, 32)\n",
        "    #self.conv7_out = None\n",
        "    #self.conv8 = block(32, 32)\n",
        "    #self.conv8_out = None\n",
        "    #self.conv9 = block(32, 32)\n",
        "    #self.conv9_out = None\n",
        "    #self.conv10 = block(32, 32)\n",
        "    #self.conv10_out = None\n",
        "    #self.conv11 = block(32, 32)\n",
        "    #self.conv11_out = None\n",
        "    #self.conv12 = block(32, 32)\n",
        "    #self.conv12_out = None\n",
        "    #self.conv13 = block(32, 32)\n",
        "    #self.conv13_out = None\n",
        "    self.fc = torch.nn.Linear(32*7*7, n_outputs) # verificar la dim de la salida para calcular el tamaño de la fully conected!!\n",
        "    self.sm = torch.nn.Softmax(dim=1)\n",
        "    print('Red creada')\n",
        "    print('arquitectura:')\n",
        "    print(self)\n",
        "    # Me fijo en el número de capas\n",
        "    i=0\n",
        "    for layer in self.children():\n",
        "        i=i+1\n",
        "    print('Número total de capas de CNN (conv+act+polling) + finales : ', i)\n",
        "    \n",
        "    # Me fijo en el número de parámetros entrenables\n",
        "    pytorch_total_params = sum(p.numel() for p in self.parameters() if p.requires_grad)\n",
        "    print('Número total de parámetros a entrenar: ', pytorch_total_params)\n",
        "\n",
        "  def validar_dim(self):\n",
        "    # es una funcion forward que imprime la dimension de cada paso\n",
        "    # la defino distinto de la forward standard para que cuando entrenemos\n",
        "    # no nos llene la pantalla de información inecesaria.\n",
        "\n",
        "    print(\"Validacion de dimensiones\")\n",
        "    tam = input(\"Ingrese tamaño de entrada: \")\n",
        "    x = torch.randn(1, 1, int(tam), int(tam))\n",
        "    print(\"Tamaño entrada: \", x.shape)\n",
        "    x = self.conv1(x)\n",
        "    print(\"Tamaño salida conv1: \", x.shape)\n",
        "    x = self.conv2(x)\n",
        "    print(\"Tamaño salida conv2: \", x.shape)\n",
        "\n",
        "    x = self.conv3(x)\n",
        "    print(\"Tamaño salida conv3: \", x.shape)\n",
        "\n",
        "    x = self.conv4(x)\n",
        "    print(\"Tamaño salida conv4: \", x.shape)\n",
        "\n",
        "    x = x.view(x.shape[0], -1)\n",
        "    print(\"Tamaño imagen vectorizada: \", x.shape)\n",
        "    x = self.fc(x)\n",
        "    print(\"Tamaño salida fc (nro clases): \", x.shape)\n",
        "\n",
        "  def forward(self, x):\n",
        "    self.conv1_out = self.conv1(x)\n",
        "    self.conv2_out = self.conv2(self.conv1_out)\n",
        "    self.conv3_out = self.conv3(self.conv2_out)\n",
        "    self.conv4_out = self.conv4(self.conv3_out)\n",
        "    self.conv5_out = self.conv5(self.conv4_out)\n",
        "    self.conv6_out = self.conv6(self.conv5_out)\n",
        "    #self.conv7_out = self.conv7(self.conv6_out)\n",
        "    #self.conv8_out = self.conv8(self.conv7_out)\n",
        "    #self.conv9_out = self.conv9(self.conv8_out)\n",
        "    #self.conv10_out = self.conv10(self.conv9_out)\n",
        "    #self.conv11_out = self.conv11(self.conv10_out)\n",
        "    #self.conv12_out = self.conv12(self.conv11_out)\n",
        "    #self.conv13_out = self.conv13(self.conv12_out)\n",
        "    y = self.conv2_out.view(self.conv2_out.shape[0], -1)\n",
        "    y = self.fc(y)\n",
        "    # x = self.sm(x)\n",
        "    return y"
      ]
    },
    {
      "cell_type": "code",
      "execution_count": 89,
      "metadata": {},
      "outputs": [
        {
          "name": "stdout",
          "output_type": "stream",
          "text": [
            "Red creada\n",
            "arquitectura:\n",
            "CNN(\n",
            "  (conv1): Sequential(\n",
            "    (0): Conv2d(1, 64, kernel_size=(3, 3), stride=(1, 1), padding=(1, 1))\n",
            "    (1): ReLU()\n",
            "    (2): MaxPool2d(kernel_size=3, stride=2, padding=1, dilation=1, ceil_mode=False)\n",
            "  )\n",
            "  (conv2): Sequential(\n",
            "    (0): Conv2d(64, 32, kernel_size=(3, 3), stride=(1, 1), padding=(1, 1))\n",
            "    (1): ReLU()\n",
            "    (2): MaxPool2d(kernel_size=3, stride=2, padding=1, dilation=1, ceil_mode=False)\n",
            "  )\n",
            "  (conv3): Sequential(\n",
            "    (0): Conv2d(32, 16, kernel_size=(3, 3), stride=(1, 1), padding=(1, 1))\n",
            "    (1): ReLU()\n",
            "    (2): MaxPool2d(kernel_size=3, stride=2, padding=1, dilation=1, ceil_mode=False)\n",
            "  )\n",
            "  (conv4): Sequential(\n",
            "    (0): Conv2d(16, 16, kernel_size=(3, 3), stride=(1, 1), padding=(1, 1))\n",
            "    (1): ReLU()\n",
            "    (2): MaxPool2d(kernel_size=3, stride=2, padding=1, dilation=1, ceil_mode=False)\n",
            "  )\n",
            "  (conv5): Sequential(\n",
            "    (0): Conv2d(16, 32, kernel_size=(3, 3), stride=(1, 1), padding=(1, 1))\n",
            "    (1): ReLU()\n",
            "    (2): MaxPool2d(kernel_size=3, stride=2, padding=1, dilation=1, ceil_mode=False)\n",
            "  )\n",
            "  (conv6): Sequential(\n",
            "    (0): Conv2d(32, 64, kernel_size=(3, 3), stride=(1, 1), padding=(1, 1))\n",
            "    (1): ReLU()\n",
            "    (2): MaxPool2d(kernel_size=3, stride=2, padding=1, dilation=1, ceil_mode=False)\n",
            "  )\n",
            "  (fc): Linear(in_features=1568, out_features=10, bias=True)\n",
            "  (sm): Softmax(dim=1)\n",
            ")\n",
            "Número total de capas de CNN (conv+act+polling) + finales :  8\n",
            "Número total de parámetros a entrenar:  64874\n"
          ]
        }
      ],
      "source": [
        "model=CNN()"
      ]
    },
    {
      "cell_type": "code",
      "execution_count": 90,
      "metadata": {},
      "outputs": [],
      "source": [
        "from tqdm import tqdm # <- para graficar la barra de avance\n",
        "epoch=1\n",
        "\n",
        "def fit(model, dataloader, epochs=epoch):\n",
        "    model.to(device)\n",
        "    optimizer = torch.optim.Adam(model.parameters(), lr=1e-4)\n",
        "    criterion = torch.nn.CrossEntropyLoss()\n",
        "    for epoch in range(1, epochs+1):\n",
        "        model.train()\n",
        "        train_loss, train_acc = [], []\n",
        "        bar = tqdm(dataloader['train'])\n",
        "        for batch in bar:\n",
        "            X, y = batch\n",
        "            X, y = X.to(device), y.to(device)\n",
        "            optimizer.zero_grad()\n",
        "            y_hat = model(X)\n",
        "            loss = criterion(y_hat, y)\n",
        "            loss.backward()\n",
        "            optimizer.step()\n",
        "            train_loss.append(loss.item())\n",
        "            ####\n",
        "            acc = (y == torch.argmax(y_hat, axis=1)).sum().item() / len(y)\n",
        "            train_acc.append(acc)\n",
        "            bar.set_description(f\"loss {np.mean(train_loss):.5f} acc {np.mean(train_acc):.5f}\")\n",
        "        bar = tqdm(dataloader['test'])\n",
        "        val_loss, val_acc = [], []\n",
        "        model.eval()\n",
        "        with torch.no_grad():\n",
        "            for batch in bar:\n",
        "                X, y = batch\n",
        "                X, y = X.to(device), y.to(device)\n",
        "                y_hat = model(X)\n",
        "                loss = criterion(y_hat, y)\n",
        "                val_loss.append(loss.item())\n",
        "                acc = (y == torch.argmax(y_hat, axis=1)).sum().item() / len(y)\n",
        "                val_acc.append(acc)\n",
        "                bar.set_description(f\"val_loss {np.mean(val_loss):.5f} val_acc {np.mean(val_acc):.5f}\")\n",
        "        print(f\"Epoch {epoch}/{epochs} loss {np.mean(train_loss):.5f} val_loss {np.mean(val_loss):.5f} acc {np.mean(train_acc):.5f} val_acc {np.mean(val_acc):.5f}\")\n",
        "        "
      ]
    },
    {
      "cell_type": "code",
      "execution_count": 92,
      "metadata": {},
      "outputs": [
        {
          "name": "stderr",
          "output_type": "stream",
          "text": [
            "loss 0.08531 acc 0.97448: 100%|██████████| 1750/1750 [01:05<00:00, 26.62it/s]\n",
            "val_loss 0.06040 val_acc 0.98097: 100%|██████████| 219/219 [00:04<00:00, 47.62it/s]"
          ]
        },
        {
          "name": "stdout",
          "output_type": "stream",
          "text": [
            "Epoch 1/1 loss 0.08531 val_loss 0.06040 acc 0.97448 val_acc 0.98097\n"
          ]
        },
        {
          "name": "stderr",
          "output_type": "stream",
          "text": [
            "\n"
          ]
        }
      ],
      "source": [
        "fit(model, dataloader)"
      ]
    },
    {
      "cell_type": "markdown",
      "metadata": {
        "id": "1aQ5n86Kwk7B"
      },
      "source": [
        "#### Score final (en este caso val_acc es el resultado de evaluación de test dataset)"
      ]
    },
    {
      "cell_type": "code",
      "execution_count": 93,
      "metadata": {},
      "outputs": [
        {
          "data": {
            "text/plain": [
              "16.30898739364444"
            ]
          },
          "execution_count": 93,
          "metadata": {},
          "output_type": "execute_result"
        }
      ],
      "source": [
        " epoch=1 #dejar asi\n",
        " leyer=8 #aumentar cantidad\n",
        " param=64874 #bajar cantidad\n",
        " test_acc=0.981\n",
        " (1/math.log10(param))*(10/epoch)*test_acc*leyer"
      ]
    },
    {
      "cell_type": "code",
      "execution_count": null,
      "metadata": {},
      "outputs": [],
      "source": []
    },
    {
      "cell_type": "code",
      "execution_count": null,
      "metadata": {},
      "outputs": [],
      "source": []
    }
  ],
  "metadata": {
    "accelerator": "GPU",
    "colab": {
      "collapsed_sections": [],
      "name": "CNN_TP.ipynb",
      "provenance": []
    },
    "kernelspec": {
      "display_name": "Python 3.8.7 64-bit",
      "language": "python",
      "name": "python3"
    },
    "language_info": {
      "codemirror_mode": {
        "name": "ipython",
        "version": 3
      },
      "file_extension": ".py",
      "mimetype": "text/x-python",
      "name": "python",
      "nbconvert_exporter": "python",
      "pygments_lexer": "ipython3",
      "version": "3.8.7"
    },
    "vscode": {
      "interpreter": {
        "hash": "1162a3170283f65bf03a2973d23062256b16d5057f9d49eb049ff6db3b0bc90d"
      }
    }
  },
  "nbformat": 4,
  "nbformat_minor": 0
}
