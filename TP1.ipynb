{
 "cells": [
  {
   "cell_type": "markdown",
   "metadata": {},
   "source": [
    "CLASE 1\n",
    "* Resolver el problema de la XOR con 3 neuronas:\n",
    "\n",
    "1. Implementar SGD para resolver la XOR.\n",
    "* > Resuelto \n",
    "2. ¿Cuántos parámetros desconocidos tiene el modelo?\n",
    "* > El modelo tiene 9 (nueve) parametros desconocidos. Tres por cada neurona. o*(m+1), con o=3 y m=2\n",
    "3. ¿Cuáles son los hiper-parámetros del modelo? Explicar que pasa cuando se\n",
    "varía el learning rate.\n",
    "* > **Hiperparametros** \n",
    "    *    Del lado de arquitectura: cantidad de layers y cantidad de neuronas por layer. \n",
    "    *    Del lado de gradiente descendiente: lr (learning rate)   , lr varia el paso de avance \n",
    "    *    Cantidad de iteraciones\n",
    "\n",
    "4. Una vez entrenado el modelo, realizar predicciones para verificar el\n",
    "funcionamiento\n",
    "* > Resuelto"
   ]
  },
  {
   "cell_type": "code",
   "execution_count": 31,
   "metadata": {},
   "outputs": [],
   "source": [
    "import numpy as np\n",
    "\n",
    "def sigmoid(z):\n",
    "  return 1/(1 + np.exp(-z))"
   ]
  },
  {
   "cell_type": "code",
   "execution_count": 32,
   "metadata": {},
   "outputs": [],
   "source": [
    "np.random.seed(2)\n",
    "\n",
    "# X train\n",
    "X = np.array([[0, 0, 1, 1], [0, 1, 0, 1]])\n",
    "\n",
    "# Y train\n",
    "Y = np.array([[0, 1, 1, 0]])\n",
    "m = X.shape[1]\n",
    "# hiperparametros\n",
    "input_dim = 2     \n",
    "hidden_dim = 3    \n",
    "output_dim = 1    \n",
    "num_of_iters = 1000\n",
    "learning_rate = 0.1"
   ]
  },
  {
   "cell_type": "code",
   "execution_count": 33,
   "metadata": {},
   "outputs": [],
   "source": [
    "def initialize_parameters(input_dim, hidden_dim, output_dim):\n",
    "  W1 = np.random.randn(hidden_dim,input_dim)/np.sqrt(input_dim)\n",
    "  b1 = np.zeros((hidden_dim, 1))\n",
    "  W2 = np.random.randn(output_dim, hidden_dim)/np.sqrt(hidden_dim)\n",
    "  b2 = np.zeros((output_dim, 1))\n",
    "\n",
    "  parameters = {\n",
    "    \"W1\": W1,\n",
    "    \"b1\" : b1,\n",
    "    \"W2\": W2,\n",
    "    \"b2\" : b2\n",
    "  }\n",
    "  return parameters"
   ]
  },
  {
   "cell_type": "code",
   "execution_count": 34,
   "metadata": {},
   "outputs": [],
   "source": [
    "def forward_prop(X, parameters):\n",
    "  W1 = parameters[\"W1\"]\n",
    "  b1 = parameters[\"b1\"]\n",
    "  W2 = parameters[\"W2\"]\n",
    "  b2 = parameters[\"b2\"]\n",
    "\n",
    "  Z1 = np.matmul(W1, X) + b1\n",
    "  A1 = np.tanh(Z1)\n",
    "  Z2 = np.matmul(W2, A1) + b2\n",
    "  A2 = sigmoid(Z2)\n",
    "\n",
    "  cache = {\"A1\": A1,\n",
    "           \"A2\": A2}\n",
    "  return A2, cache"
   ]
  },
  {
   "cell_type": "code",
   "execution_count": 35,
   "metadata": {},
   "outputs": [],
   "source": [
    "def calculate_cost(A2, Y):\n",
    "   return np.mean((A2-Y)**2)/2"
   ]
  },
  {
   "cell_type": "code",
   "execution_count": 36,
   "metadata": {},
   "outputs": [],
   "source": [
    "def backward_prop(X, Y, cache, parameters):\n",
    "  A1 = cache[\"A1\"]\n",
    "  A2 = cache[\"A2\"]\n",
    "\n",
    "  W2 = parameters[\"W2\"]\n",
    "\n",
    "  dZ2 = A2 - Y\n",
    "  dW2 = np.matmul(dZ2, A1.T)/m\n",
    "  db2 = np.sum(dZ2, axis=1, keepdims=True)/m\n",
    "  dZ1 = np.multiply(np.matmul(W2.T, dZ2), 1-np.power(A1, 2))\n",
    "  dW1 = np.matmul(dZ1, X.T)/m\n",
    "  db1 = np.sum(dZ1, axis=1, keepdims=True)/m\n",
    "\n",
    "  grads = {\n",
    "    \"dW1\": dW1,\n",
    "    \"db1\": db1,\n",
    "    \"dW2\": dW2,\n",
    "    \"db2\": db2\n",
    "  }\n",
    "\n",
    "  return grads"
   ]
  },
  {
   "cell_type": "code",
   "execution_count": 37,
   "metadata": {},
   "outputs": [],
   "source": [
    "def update_parameters(parameters, grads, learning_rate):\n",
    "  W1 = parameters[\"W1\"]\n",
    "  b1 = parameters[\"b1\"]\n",
    "  W2 = parameters[\"W2\"]\n",
    "  b2 = parameters[\"b2\"]\n",
    "\n",
    "  dW1 = grads[\"dW1\"]\n",
    "  db1 = grads[\"db1\"]\n",
    "  dW2 = grads[\"dW2\"]\n",
    "  db2 = grads[\"db2\"]\n",
    "\n",
    "  W1 = W1 - learning_rate*dW1\n",
    "  b1 = b1 - learning_rate*db1\n",
    "  W2 = W2 - learning_rate*dW2\n",
    "  b2 = b2 - learning_rate*db2\n",
    "  \n",
    "  new_parameters = {\n",
    "    \"W1\": W1,\n",
    "    \"W2\": W2,\n",
    "    \"b1\" : b1,\n",
    "    \"b2\" : b2\n",
    "  }\n",
    "\n",
    "  return new_parameters"
   ]
  },
  {
   "cell_type": "code",
   "execution_count": 46,
   "metadata": {},
   "outputs": [],
   "source": [
    "def model(X, Y, input_dim, hidden_dim, output_dim, num_of_iters, learning_rate):\n",
    "\n",
    "  parameters = initialize_parameters(input_dim, hidden_dim, output_dim)\n",
    "  for i in range(0, num_of_iters+1):\n",
    "    a2, cache = forward_prop(X, parameters)\n",
    "    cost = calculate_cost(a2, Y)\n",
    "    grads = backward_prop(X, Y, cache, parameters)\n",
    "    parameters = update_parameters(parameters, grads, learning_rate)\n",
    "    if(i%100 == 0):\n",
    "      print('Epoch # {:d}: costo={:f}'.format(i, cost))\n",
    "  return parameters"
   ]
  },
  {
   "cell_type": "code",
   "execution_count": 47,
   "metadata": {},
   "outputs": [],
   "source": [
    "def predict(X, parameters):\n",
    "  a2, cache = forward_prop(X, parameters)\n",
    "  yhat = a2\n",
    "  yhat = np.squeeze(yhat)\n",
    "  if(yhat >= 0.5):\n",
    "    y_predict = 1\n",
    "  else:\n",
    "    y_predict = 0\n",
    "\n",
    "  return y_predict"
   ]
  },
  {
   "cell_type": "code",
   "execution_count": 48,
   "metadata": {},
   "outputs": [
    {
     "name": "stdout",
     "output_type": "stream",
     "text": [
      "Epoch # 0: costo=0.126839\n",
      "Epoch # 100: costo=0.125226\n",
      "Epoch # 200: costo=0.124821\n",
      "Epoch # 300: costo=0.124138\n",
      "Epoch # 400: costo=0.122411\n",
      "Epoch # 500: costo=0.118199\n",
      "Epoch # 600: costo=0.109758\n",
      "Epoch # 700: costo=0.097807\n",
      "Epoch # 800: costo=0.086302\n",
      "Epoch # 900: costo=0.075290\n",
      "Epoch # 1000: costo=0.057216\n"
     ]
    }
   ],
   "source": [
    "trained_parameters = model(X, Y,input_dim, hidden_dim, output_dim, num_of_iters, learning_rate)"
   ]
  },
  {
   "cell_type": "code",
   "execution_count": 42,
   "metadata": {},
   "outputs": [
    {
     "name": "stdout",
     "output_type": "stream",
     "text": [
      "Prediccion para (1, 1) is 0\n"
     ]
    }
   ],
   "source": [
    "# Test\n",
    "X_test = np.array([[1], [1]])\n",
    "y_predict = predict(X_test, trained_parameters)\n",
    "print('Predicción para ({:d}, {:d}) is {:d}'.format(\n",
    "    X_test[0][0], X_test[1][0], y_predict))"
   ]
  },
  {
   "cell_type": "code",
   "execution_count": null,
   "metadata": {},
   "outputs": [],
   "source": []
  }
 ],
 "metadata": {
  "kernelspec": {
   "display_name": "Python 3.9.7 ('base')",
   "language": "python",
   "name": "python3"
  },
  "language_info": {
   "codemirror_mode": {
    "name": "ipython",
    "version": 3
   },
   "file_extension": ".py",
   "mimetype": "text/x-python",
   "name": "python",
   "nbconvert_exporter": "python",
   "pygments_lexer": "ipython3",
   "version": "3.9.7"
  },
  "orig_nbformat": 4,
  "vscode": {
   "interpreter": {
    "hash": "3eed02be983c49f5f395619cd37899b328088948fdab1e3fff682af3c98323cc"
   }
  }
 },
 "nbformat": 4,
 "nbformat_minor": 2
}
